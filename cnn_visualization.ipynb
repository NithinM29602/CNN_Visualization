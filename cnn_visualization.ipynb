{
  "nbformat": 4,
  "nbformat_minor": 0,
  "metadata": {
    "colab": {
      "provenance": [],
      "gpuType": "T4"
    },
    "kernelspec": {
      "name": "python3",
      "display_name": "Python 3"
    },
    "language_info": {
      "name": "python"
    },
    "accelerator": "GPU"
  },
  "cells": [
    {
      "cell_type": "code",
      "execution_count": 3,
      "metadata": {
        "id": "S7Q0FVo1_kSs"
      },
      "outputs": [],
      "source": [
        "import torch\n",
        "import torchvision\n",
        "import torch.nn as nn\n",
        "import torchvision.models as models\n",
        "from torchvision.utils import make_grid\n",
        "from PIL import Image\n",
        "import os\n",
        "import numpy as np\n",
        "from mpl_toolkits.axes_grid1 import ImageGrid\n",
        "import matplotlib.pyplot as plt\n",
        "%matplotlib inline"
      ]
    },
    {
      "cell_type": "code",
      "source": [
        "device = ('cuda' if torch.cuda.is_available() else 'cpu')\n",
        "print(device)"
      ],
      "metadata": {
        "id": "J4saWhxlC7b_"
      },
      "execution_count": null,
      "outputs": []
    },
    {
      "cell_type": "code",
      "source": [
        "transform = torchvision.transforms.Compose([\n",
        "    torchvision.transforms.Resize((255,255)),\n",
        "    torchvision.transforms.CenterCrop((224,224)),\n",
        "    torchvision.transforms.ToTensor(),\n",
        "    torchvision.transforms.Normalize(mean=[0.485, 0.456, 0.406], std=[0.229, 0.224, 0.225])\n",
        "])"
      ],
      "metadata": {
        "id": "9WFbLQwLDIrm"
      },
      "execution_count": 5,
      "outputs": []
    },
    {
      "cell_type": "code",
      "source": [
        "model = models.vgg16(pretrained = True)"
      ],
      "metadata": {
        "id": "_vXQp_ffAEab"
      },
      "execution_count": null,
      "outputs": []
    },
    {
      "cell_type": "code",
      "source": [
        "with open(\"/content/sample_data/imagenet_class_index.txt\",\"r\") as f:\n",
        "  lines = f.readlines()\n",
        "\n",
        "class_idx_dict = {}\n",
        "for line in lines:\n",
        "  line = line.strip()\n",
        "  key , value = line.split(':')\n",
        "  key = key.strip()\n",
        "  value = value.strip()\n",
        "  class_idx_dict[key] = value\n",
        "\n",
        "\n",
        "class_idx = [class_idx_dict[f\"{i}\"] for i in class_idx_dict.keys()]"
      ],
      "metadata": {
        "id": "bDG8X8XMCcQv"
      },
      "execution_count": 7,
      "outputs": []
    },
    {
      "cell_type": "code",
      "source": [
        "for params in model.parameters():\n",
        "  params.requires_grad == False"
      ],
      "metadata": {
        "id": "4LQKXPpZEoQu"
      },
      "execution_count": 8,
      "outputs": []
    },
    {
      "cell_type": "code",
      "source": [
        "model.to(device)"
      ],
      "metadata": {
        "id": "l_OhwfU2C3gO"
      },
      "execution_count": null,
      "outputs": []
    },
    {
      "cell_type": "code",
      "source": [
        "model.eval()"
      ],
      "metadata": {
        "id": "1Wes5iaAICxe"
      },
      "execution_count": null,
      "outputs": []
    },
    {
      "cell_type": "code",
      "source": [
        "# for name, layer in model.named_modules():\n",
        "#   if isinstance(layer, torch.nn.Conv2d):\n",
        "#     weights = layer.weight.shape\n",
        "#     bias = layer.bias.shape\n",
        "#     name = name.replace('features.','')\n",
        "#     print(f\"Conv Layer {name}\")\n",
        "#     print(f\"Weights Shape : {weights}\")\n",
        "#     print(f\"Bias Shape : \", bias if bias is not None else None )\n",
        "#     print('-'*40)"
      ],
      "metadata": {
        "id": "T2hzeBvNL_WF"
      },
      "execution_count": 11,
      "outputs": []
    },
    {
      "cell_type": "code",
      "source": [
        "name_list = {}\n",
        "i=1\n",
        "for name, layer in model.features.named_children():\n",
        "  if isinstance(layer, torch.nn.Conv2d):\n",
        "    name_list[i] = int(name)\n",
        "    i += 1\n"
      ],
      "metadata": {
        "id": "WJiWJ4rpTUfa"
      },
      "execution_count": 12,
      "outputs": []
    },
    {
      "cell_type": "code",
      "source": [
        "print(name_list)"
      ],
      "metadata": {
        "id": "B53PLWKG45oI"
      },
      "execution_count": null,
      "outputs": []
    },
    {
      "cell_type": "code",
      "source": [
        "user_input = int(input(\"Enter the Conv Layer which you need to see : \"))\n",
        "conv_layer_num = name_list[user_input]\n",
        "conv_layer_name = \"Conv_Layer\" + str(conv_layer_num)"
      ],
      "metadata": {
        "id": "9mmSCy3nWqOd"
      },
      "execution_count": null,
      "outputs": []
    },
    {
      "cell_type": "code",
      "source": [
        "# Takes the weights and bias of the Particular Layer as specified by the User\n",
        "for name, layer in model.features.named_children():\n",
        "  if int(name) == conv_layer_num:\n",
        "    filter, bias = layer.weight, layer.bias\n",
        "\n",
        "# Normalizes the filter\n",
        "f_max, f_min = filter.max(), filter.min()\n",
        "filter = (filter - f_min) / (f_max - f_min)"
      ],
      "metadata": {
        "id": "URGT5RZJz-zI"
      },
      "execution_count": 35,
      "outputs": []
    },
    {
      "cell_type": "code",
      "source": [
        "total_images = int(input(\"Enter the no of images that has to be displayed : \"))\n"
      ],
      "metadata": {
        "id": "FiveJ1h5QN8e"
      },
      "execution_count": null,
      "outputs": []
    },
    {
      "cell_type": "code",
      "source": [
        "num_filter = filter.data.size(0)\n",
        "filter_image_list = [] # List of all the filter images\n",
        "\n",
        "# Let's say in_channel is 3 and out_channel is 10.\n",
        "# Then each in_channel has total no of 10 filters, so totally 30 filters.\n",
        "# Looping through every filter and adding each filter image to list.\n",
        "# each in_channel consist of no of out_channels of filters\n",
        "\n",
        "for i in range(num_filter):\n",
        "  filter_data = filter.data[i].cpu().numpy().transpose(1,2,0)\n",
        "  num_channels = filter_data.shape[2]\n",
        "  for j in range(num_channels):\n",
        "    filter_image_list.append(filter_data[:,:,j])\n",
        "\n",
        "len_filter_image_list = total_images #len(filter_image_list) #Total no of filters\n",
        "\n",
        "images_per_row = 6  #Specifying the required no of images per row\n",
        "num_rows = (len_filter_image_list + images_per_row - 1) // images_per_row\n",
        "num_cols = images_per_row\n",
        "\n",
        "# Create a figure and axes\n",
        "fig, axes = plt.subplots(num_rows, num_cols, figsize=(10, 2*num_rows))\n",
        "\n",
        "# Flatten the axes array if needed\n",
        "if len_filter_image_list == 1:\n",
        "    axes = np.array([[axes]])\n",
        "\n",
        "# Loop through the images and axes to plot them\n",
        "for i, ax in enumerate(axes.flat):\n",
        "    if i < len_filter_image_list:\n",
        "        ax.imshow(filter_image_list[i], cmap='gray')  # Adjust the colormap as needed\n",
        "        ax.set_xticks([])\n",
        "        ax.set_yticks([])\n",
        "    else:\n",
        "        ax.axis('off')  # Turn off extra axes\n",
        "\n",
        "# Adjust layout and display the plot\n",
        "plt.tight_layout()\n",
        "plt.show()"
      ],
      "metadata": {
        "id": "N8051abTVcDp"
      },
      "execution_count": null,
      "outputs": []
    },
    {
      "cell_type": "code",
      "source": [
        "# Feature Maps\n",
        "\n",
        "conv_layers = {}\n",
        "\n",
        "def get_conv_layers(name):\n",
        "    def hook(module, input, output):\n",
        "        conv_layers[name] = output.detach()\n",
        "    return hook\n",
        "\n",
        "# Register a forward hook to capture the output of the desired layer (conv1)\n",
        "model.features[conv_layer_num].register_forward_hook(get_conv_layers(conv_layer_name))\n",
        "\n",
        "# Gets the Image and Process it\n",
        "image = Image.open('/content/sample_data/french_bulldog.jpeg')\n",
        "transformed_image = transform(image)\n",
        "final_image = transformed_image.unsqueeze(0)\n",
        "final_image = final_image.to(device)\n",
        "\n",
        "# Model Prediction\n",
        "output = model(final_image)\n",
        "\n",
        "# Extracts the Required Conv Layer from the list of Conv Layers (conv_layers ==> {'Conv1, 'Conv2', .....})\n",
        "final_output = conv_layers[conv_layer_name].squeeze(0) # removes the batch value\n",
        "\n",
        "# Converts the Tensor to Numpy format\n",
        "final_data = final_output.cpu().numpy()\n",
        "final_data = final_data.transpose(1,2,0) # [(64,224, 224) == > (224, 224, 64)]\n",
        "s = final_data.shape"
      ],
      "metadata": {
        "id": "wl3u9WX5a432"
      },
      "execution_count": 45,
      "outputs": []
    },
    {
      "cell_type": "code",
      "source": [
        "print(s)"
      ],
      "metadata": {
        "id": "ijsU3t5sVPtt"
      },
      "execution_count": null,
      "outputs": []
    },
    {
      "cell_type": "code",
      "source": [
        "# Displaying the Feature Maps\n",
        "total_no_images = total_images #s[2]\n",
        "\n",
        "images_per_row = 6  #Specifying the required no of images per row\n",
        "num_rows = (total_no_images + images_per_row - 1) // images_per_row\n",
        "num_cols = images_per_row\n",
        "\n",
        "# Create a figure and axes\n",
        "fig, axes = plt.subplots(num_rows, num_cols, figsize=(10, 10))\n",
        "\n",
        "# Flatten the axes array if needed\n",
        "if total_no_images == 1:\n",
        "    axes = np.array([[axes]])\n",
        "\n",
        "# Loop through the images and axes to plot them\n",
        "for i, ax in enumerate(axes.flat):\n",
        "    if i < total_no_images:\n",
        "        ax.imshow(final_data[:,:,i], cmap='gray')  # Adjust the colormap as needed\n",
        "        ax.set_xticks([])\n",
        "        ax.set_yticks([])\n",
        "    else:\n",
        "        ax.axis('off')  # Turn off extra axes\n",
        "\n",
        "# Adjust layout and display the plot\n",
        "plt.tight_layout()\n",
        "plt.show()"
      ],
      "metadata": {
        "id": "4jz4mbgjU1J-"
      },
      "execution_count": null,
      "outputs": []
    }
  ]
}