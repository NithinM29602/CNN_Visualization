{
  "nbformat": 4,
  "nbformat_minor": 0,
  "metadata": {
    "colab": {
      "provenance": [],
      "gpuType": "T4"
    },
    "kernelspec": {
      "name": "python3",
      "display_name": "Python 3"
    },
    "language_info": {
      "name": "python"
    },
    "accelerator": "GPU"
  },
  "cells": [
    {
      "cell_type": "code",
      "execution_count": 1,
      "metadata": {
        "id": "S7Q0FVo1_kSs"
      },
      "outputs": [],
      "source": [
        "import torch\n",
        "import torchvision\n",
        "import torch.nn as nn\n",
        "import torchvision.models as models\n",
        "from PIL import Image\n",
        "import os\n",
        "import numpy as np\n",
        "from mpl_toolkits.axes_grid1 import ImageGrid\n",
        "import matplotlib.pyplot as plt\n",
        "%matplotlib inline"
      ]
    },
    {
      "cell_type": "code",
      "source": [
        "device = ('cuda' if torch.cuda.is_available() else 'cpu')\n",
        "print(device)"
      ],
      "metadata": {
        "colab": {
          "base_uri": "https://localhost:8080/"
        },
        "id": "J4saWhxlC7b_",
        "outputId": "ae4ddad2-f6b2-49b4-d6d2-05be639461ae"
      },
      "execution_count": 2,
      "outputs": [
        {
          "output_type": "stream",
          "name": "stdout",
          "text": [
            "cpu\n"
          ]
        }
      ]
    },
    {
      "cell_type": "code",
      "source": [
        "transform = torchvision.transforms.Compose([\n",
        "    torchvision.transforms.Resize((255,255)),\n",
        "    torchvision.transforms.CenterCrop((224,224)),\n",
        "    torchvision.transforms.ToTensor(),\n",
        "    torchvision.transforms.Normalize(mean=[0.485, 0.456, 0.406], std=[0.229, 0.224, 0.225])\n",
        "])"
      ],
      "metadata": {
        "id": "9WFbLQwLDIrm"
      },
      "execution_count": 3,
      "outputs": []
    },
    {
      "cell_type": "code",
      "source": [
        "model = models.vgg16(pretrained = True)"
      ],
      "metadata": {
        "colab": {
          "base_uri": "https://localhost:8080/"
        },
        "id": "_vXQp_ffAEab",
        "outputId": "f26a5a05-f207-46cc-faae-829bc29c1a40"
      },
      "execution_count": 4,
      "outputs": [
        {
          "output_type": "stream",
          "name": "stderr",
          "text": [
            "/usr/local/lib/python3.10/dist-packages/torchvision/models/_utils.py:208: UserWarning: The parameter 'pretrained' is deprecated since 0.13 and may be removed in the future, please use 'weights' instead.\n",
            "  warnings.warn(\n",
            "/usr/local/lib/python3.10/dist-packages/torchvision/models/_utils.py:223: UserWarning: Arguments other than a weight enum or `None` for 'weights' are deprecated since 0.13 and may be removed in the future. The current behavior is equivalent to passing `weights=VGG16_Weights.IMAGENET1K_V1`. You can also use `weights=VGG16_Weights.DEFAULT` to get the most up-to-date weights.\n",
            "  warnings.warn(msg)\n",
            "Downloading: \"https://download.pytorch.org/models/vgg16-397923af.pth\" to /root/.cache/torch/hub/checkpoints/vgg16-397923af.pth\n",
            "100%|██████████| 528M/528M [00:07<00:00, 72.6MB/s]\n"
          ]
        }
      ]
    },
    {
      "cell_type": "code",
      "source": [
        "with open(\"/content/sample_data/imagenet_class_index.txt\",\"r\") as f:\n",
        "  lines = f.readlines()\n",
        "\n",
        "class_idx_dict = {}\n",
        "for line in lines:\n",
        "  line = line.strip()\n",
        "  key , value = line.split(':')\n",
        "  key = key.strip()\n",
        "  value = value.strip()\n",
        "  class_idx_dict[key] = value\n",
        "\n",
        "\n",
        "class_idx = [class_idx_dict[f\"{i}\"] for i in class_idx_dict.keys()]"
      ],
      "metadata": {
        "id": "bDG8X8XMCcQv"
      },
      "execution_count": 6,
      "outputs": []
    },
    {
      "cell_type": "code",
      "source": [
        "for params in model.parameters():\n",
        "  params.requires_grad == False"
      ],
      "metadata": {
        "id": "4LQKXPpZEoQu"
      },
      "execution_count": 7,
      "outputs": []
    },
    {
      "cell_type": "code",
      "source": [
        "model.to(device)"
      ],
      "metadata": {
        "colab": {
          "base_uri": "https://localhost:8080/"
        },
        "id": "l_OhwfU2C3gO",
        "outputId": "cdae8649-0f10-41ee-975f-c47cc7cdadbb"
      },
      "execution_count": 8,
      "outputs": [
        {
          "output_type": "execute_result",
          "data": {
            "text/plain": [
              "VGG(\n",
              "  (features): Sequential(\n",
              "    (0): Conv2d(3, 64, kernel_size=(3, 3), stride=(1, 1), padding=(1, 1))\n",
              "    (1): ReLU(inplace=True)\n",
              "    (2): Conv2d(64, 64, kernel_size=(3, 3), stride=(1, 1), padding=(1, 1))\n",
              "    (3): ReLU(inplace=True)\n",
              "    (4): MaxPool2d(kernel_size=2, stride=2, padding=0, dilation=1, ceil_mode=False)\n",
              "    (5): Conv2d(64, 128, kernel_size=(3, 3), stride=(1, 1), padding=(1, 1))\n",
              "    (6): ReLU(inplace=True)\n",
              "    (7): Conv2d(128, 128, kernel_size=(3, 3), stride=(1, 1), padding=(1, 1))\n",
              "    (8): ReLU(inplace=True)\n",
              "    (9): MaxPool2d(kernel_size=2, stride=2, padding=0, dilation=1, ceil_mode=False)\n",
              "    (10): Conv2d(128, 256, kernel_size=(3, 3), stride=(1, 1), padding=(1, 1))\n",
              "    (11): ReLU(inplace=True)\n",
              "    (12): Conv2d(256, 256, kernel_size=(3, 3), stride=(1, 1), padding=(1, 1))\n",
              "    (13): ReLU(inplace=True)\n",
              "    (14): Conv2d(256, 256, kernel_size=(3, 3), stride=(1, 1), padding=(1, 1))\n",
              "    (15): ReLU(inplace=True)\n",
              "    (16): MaxPool2d(kernel_size=2, stride=2, padding=0, dilation=1, ceil_mode=False)\n",
              "    (17): Conv2d(256, 512, kernel_size=(3, 3), stride=(1, 1), padding=(1, 1))\n",
              "    (18): ReLU(inplace=True)\n",
              "    (19): Conv2d(512, 512, kernel_size=(3, 3), stride=(1, 1), padding=(1, 1))\n",
              "    (20): ReLU(inplace=True)\n",
              "    (21): Conv2d(512, 512, kernel_size=(3, 3), stride=(1, 1), padding=(1, 1))\n",
              "    (22): ReLU(inplace=True)\n",
              "    (23): MaxPool2d(kernel_size=2, stride=2, padding=0, dilation=1, ceil_mode=False)\n",
              "    (24): Conv2d(512, 512, kernel_size=(3, 3), stride=(1, 1), padding=(1, 1))\n",
              "    (25): ReLU(inplace=True)\n",
              "    (26): Conv2d(512, 512, kernel_size=(3, 3), stride=(1, 1), padding=(1, 1))\n",
              "    (27): ReLU(inplace=True)\n",
              "    (28): Conv2d(512, 512, kernel_size=(3, 3), stride=(1, 1), padding=(1, 1))\n",
              "    (29): ReLU(inplace=True)\n",
              "    (30): MaxPool2d(kernel_size=2, stride=2, padding=0, dilation=1, ceil_mode=False)\n",
              "  )\n",
              "  (avgpool): AdaptiveAvgPool2d(output_size=(7, 7))\n",
              "  (classifier): Sequential(\n",
              "    (0): Linear(in_features=25088, out_features=4096, bias=True)\n",
              "    (1): ReLU(inplace=True)\n",
              "    (2): Dropout(p=0.5, inplace=False)\n",
              "    (3): Linear(in_features=4096, out_features=4096, bias=True)\n",
              "    (4): ReLU(inplace=True)\n",
              "    (5): Dropout(p=0.5, inplace=False)\n",
              "    (6): Linear(in_features=4096, out_features=1000, bias=True)\n",
              "  )\n",
              ")"
            ]
          },
          "metadata": {},
          "execution_count": 8
        }
      ]
    },
    {
      "cell_type": "code",
      "source": [
        "model.eval()"
      ],
      "metadata": {
        "colab": {
          "base_uri": "https://localhost:8080/"
        },
        "id": "1Wes5iaAICxe",
        "outputId": "1942f0d7-eb11-4e22-cf4a-bf1b5d7e60d9"
      },
      "execution_count": 9,
      "outputs": [
        {
          "output_type": "execute_result",
          "data": {
            "text/plain": [
              "VGG(\n",
              "  (features): Sequential(\n",
              "    (0): Conv2d(3, 64, kernel_size=(3, 3), stride=(1, 1), padding=(1, 1))\n",
              "    (1): ReLU(inplace=True)\n",
              "    (2): Conv2d(64, 64, kernel_size=(3, 3), stride=(1, 1), padding=(1, 1))\n",
              "    (3): ReLU(inplace=True)\n",
              "    (4): MaxPool2d(kernel_size=2, stride=2, padding=0, dilation=1, ceil_mode=False)\n",
              "    (5): Conv2d(64, 128, kernel_size=(3, 3), stride=(1, 1), padding=(1, 1))\n",
              "    (6): ReLU(inplace=True)\n",
              "    (7): Conv2d(128, 128, kernel_size=(3, 3), stride=(1, 1), padding=(1, 1))\n",
              "    (8): ReLU(inplace=True)\n",
              "    (9): MaxPool2d(kernel_size=2, stride=2, padding=0, dilation=1, ceil_mode=False)\n",
              "    (10): Conv2d(128, 256, kernel_size=(3, 3), stride=(1, 1), padding=(1, 1))\n",
              "    (11): ReLU(inplace=True)\n",
              "    (12): Conv2d(256, 256, kernel_size=(3, 3), stride=(1, 1), padding=(1, 1))\n",
              "    (13): ReLU(inplace=True)\n",
              "    (14): Conv2d(256, 256, kernel_size=(3, 3), stride=(1, 1), padding=(1, 1))\n",
              "    (15): ReLU(inplace=True)\n",
              "    (16): MaxPool2d(kernel_size=2, stride=2, padding=0, dilation=1, ceil_mode=False)\n",
              "    (17): Conv2d(256, 512, kernel_size=(3, 3), stride=(1, 1), padding=(1, 1))\n",
              "    (18): ReLU(inplace=True)\n",
              "    (19): Conv2d(512, 512, kernel_size=(3, 3), stride=(1, 1), padding=(1, 1))\n",
              "    (20): ReLU(inplace=True)\n",
              "    (21): Conv2d(512, 512, kernel_size=(3, 3), stride=(1, 1), padding=(1, 1))\n",
              "    (22): ReLU(inplace=True)\n",
              "    (23): MaxPool2d(kernel_size=2, stride=2, padding=0, dilation=1, ceil_mode=False)\n",
              "    (24): Conv2d(512, 512, kernel_size=(3, 3), stride=(1, 1), padding=(1, 1))\n",
              "    (25): ReLU(inplace=True)\n",
              "    (26): Conv2d(512, 512, kernel_size=(3, 3), stride=(1, 1), padding=(1, 1))\n",
              "    (27): ReLU(inplace=True)\n",
              "    (28): Conv2d(512, 512, kernel_size=(3, 3), stride=(1, 1), padding=(1, 1))\n",
              "    (29): ReLU(inplace=True)\n",
              "    (30): MaxPool2d(kernel_size=2, stride=2, padding=0, dilation=1, ceil_mode=False)\n",
              "  )\n",
              "  (avgpool): AdaptiveAvgPool2d(output_size=(7, 7))\n",
              "  (classifier): Sequential(\n",
              "    (0): Linear(in_features=25088, out_features=4096, bias=True)\n",
              "    (1): ReLU(inplace=True)\n",
              "    (2): Dropout(p=0.5, inplace=False)\n",
              "    (3): Linear(in_features=4096, out_features=4096, bias=True)\n",
              "    (4): ReLU(inplace=True)\n",
              "    (5): Dropout(p=0.5, inplace=False)\n",
              "    (6): Linear(in_features=4096, out_features=1000, bias=True)\n",
              "  )\n",
              ")"
            ]
          },
          "metadata": {},
          "execution_count": 9
        }
      ]
    },
    {
      "cell_type": "code",
      "source": [
        "# for name, layer in model.named_modules():\n",
        "#   if isinstance(layer, torch.nn.Conv2d):\n",
        "#     weights = layer.weight.shape\n",
        "#     bias = layer.bias.shape\n",
        "#     name = name.replace('features.','')\n",
        "#     print(f\"Conv Layer {name}\")\n",
        "#     print(f\"Weights Shape : {weights}\")\n",
        "#     print(f\"Bias Shape : \", bias if bias is not None else None )\n",
        "#     print('-'*40)"
      ],
      "metadata": {
        "id": "T2hzeBvNL_WF"
      },
      "execution_count": null,
      "outputs": []
    },
    {
      "cell_type": "code",
      "source": [
        "name_list = {}\n",
        "i=1\n",
        "for name, layer in model.features.named_children():\n",
        "  if isinstance(layer, torch.nn.Conv2d):\n",
        "    name_list[i] = int(name)\n",
        "    i += 1\n",
        ""
      ],
      "metadata": {
        "id": "WJiWJ4rpTUfa"
      },
      "execution_count": 10,
      "outputs": []
    },
    {
      "cell_type": "code",
      "source": [
        "print(name_list)"
      ],
      "metadata": {
        "colab": {
          "base_uri": "https://localhost:8080/"
        },
        "id": "B53PLWKG45oI",
        "outputId": "d7dca40f-d7a5-4064-88ac-5c77fecdcac1"
      },
      "execution_count": 11,
      "outputs": [
        {
          "output_type": "stream",
          "name": "stdout",
          "text": [
            "{1: 0, 2: 2, 3: 5, 4: 7, 5: 10, 6: 12, 7: 14, 8: 17, 9: 19, 10: 21, 11: 24, 12: 26, 13: 28}\n"
          ]
        }
      ]
    },
    {
      "cell_type": "code",
      "source": [
        "user_input = int(input(\"Enter the Conv Layer which you need to see : \"))\n",
        "conv_layer_num = name_list[user_input]\n",
        "conv_layer_name = \"Conv_Layer\" + str(conv_layer_num)"
      ],
      "metadata": {
        "id": "9mmSCy3nWqOd",
        "colab": {
          "base_uri": "https://localhost:8080/"
        },
        "outputId": "38cbd250-16bc-4d5a-a940-9a01472df5c5"
      },
      "execution_count": 12,
      "outputs": [
        {
          "name": "stdout",
          "output_type": "stream",
          "text": [
            "Enter the Conv Layer which you need to see : 13\n"
          ]
        }
      ]
    },
    {
      "cell_type": "code",
      "source": [
        "#filters\n",
        "\n",
        "for name, layer in model.features.named_children():\n",
        "  if int(name) == conv_layer_num:\n",
        "    filter, bias = layer.weight, layer.bias\n",
        "\n",
        "f_max, f_min = filter.max(), filter.min()\n",
        "filter = (filter - f_min) / (f_max - f_min)"
      ],
      "metadata": {
        "id": "URGT5RZJz-zI"
      },
      "execution_count": null,
      "outputs": []
    },
    {
      "cell_type": "code",
      "source": [
        "# torch.Size([64, 3, 3, 3]) it is like (out_channels, input_channels, height, width)\n",
        "# Filters\n",
        "plt.figure(figsize=(5,5))\n",
        "num_filter = filter.data.size(0)\n",
        "print(num_filter)\n",
        "print(filter.data[1].shape)\n",
        "# print(filter.data.size)\n",
        "\n",
        "for i in range(6):\n",
        "  filter_data = filter.data[i].cpu().numpy().transpose(1,2,0)\n",
        "  # print(filter_data.shape)\n",
        "  num_channels = len(filter_data[0])\n",
        "  for j in range(num_channels):\n",
        "      plt.subplot(1, num_channels, j + 1)\n",
        "      plt.imshow(filter_data[:,:,j], cmap='gray')  # Visualize each channel\n",
        "      plt.axis('off')\n",
        "\n",
        "\n",
        "#\n",
        "print(filter.shape)\n",
        "filter_data = filter.data.cpu().numpy().transpose(0,2,3,1)\n",
        "print(filter.shape)\n",
        "for j in range(1):\n",
        "   plt.subplot(1, num_channels, j + 1)\n",
        "   plt.imshow(filter_data[1,:,:,0], cmap='gray')  # Visualize each channel\n",
        "   plt.axis('off')"
      ],
      "metadata": {
        "id": "N8051abTVcDp"
      },
      "execution_count": null,
      "outputs": []
    },
    {
      "cell_type": "code",
      "source": [
        "# Feature Maps\n",
        "\n",
        "conv_layers = {}\n",
        "\n",
        "def get_conv_layers(name):\n",
        "    def hook(module, input, output):\n",
        "        conv_layers[name] = output.detach()\n",
        "    return hook\n",
        "\n",
        "# Register a forward hook to capture the output of the desired layer (conv1)\n",
        "model.features[conv_layer_num].register_forward_hook(get_conv_layers(conv_layer_name))\n",
        "\n",
        "image = Image.open('/content/sample_data/french_bulldog.jpeg')\n",
        "transformed_image = transform(image)\n",
        "final_image = transformed_image.unsqueeze(0)\n",
        "final_image = final_image.to(device)\n",
        "output = model(final_image)\n",
        "\n",
        "final_output = conv_layers[conv_layer_name].squeeze(0)\n",
        "\n",
        "final_data = final_output.cpu().numpy()\n",
        "final_data = final_data.transpose(1,2,0)\n",
        "s = final_data.shape"
      ],
      "metadata": {
        "id": "wl3u9WX5a432"
      },
      "execution_count": 13,
      "outputs": []
    },
    {
      "cell_type": "code",
      "source": [
        "fig = plt.figure(figsize=(30,20))\n",
        "total_filters = s[2]\n",
        "no_rows = (total_filters // 6) + 1\n",
        "# total_grids =  no_rows * 6\n",
        "# non_required_grids = total_grids - total_filters\n",
        "\n",
        "grid = ImageGrid(fig, 111,\n",
        "                 nrows_ncols=(no_rows, 6),\n",
        "                 axes_pad=0.3,\n",
        "                 )\n",
        "for i in range(total_filters):\n",
        "  grid[i].imshow(final_data[:,:,i-1], cmap='gray')\n",
        "  grid[i].axis('off')\n",
        "\n",
        "\n",
        "# for _ in range(non_required_grids):\n",
        "#   grid[-1].remove()\n",
        "\n",
        "\n",
        "plt.show()"
      ],
      "metadata": {
        "id": "2Pvu1EflenKX"
      },
      "execution_count": null,
      "outputs": []
    }
  ]
}